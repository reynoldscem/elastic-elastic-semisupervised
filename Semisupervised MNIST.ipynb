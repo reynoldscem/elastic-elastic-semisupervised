{
 "cells": [
  {
   "cell_type": "code",
   "execution_count": 1,
   "metadata": {
    "collapsed": true
   },
   "outputs": [],
   "source": [
    "from lasagne.layers import (\n",
    "    InputLayer, GaussianNoiseLayer, DropoutLayer, DenseLayer,\n",
    "    get_output, get_all_params, get_all_param_values\n",
    ")\n",
    "from lasagne.regularization import regularize_network_params, l1, l2\n",
    "from lasagne.objectives import binary_crossentropy\n",
    "from lasagne.updates import nesterov_momentum\n",
    "from lasagne.nonlinearities import elu, sigmoid\n",
    "from collections import OrderedDict\n",
    "from theano import tensor as T\n",
    "import theano\n",
    "\n",
    "from sklearn.datasets import fetch_mldata\n",
    "import numpy as np\n",
    "import os\n",
    "\n",
    "\n",
    "import numpy as np\n",
    "from scipy.ndimage.interpolation import map_coordinates\n",
    "from scipy.ndimage.filters import gaussian_filter\n",
    "from sklearn.neighbors import KNeighborsClassifier\n",
    "from sklearn.cluster import MiniBatchKMeans"
   ]
  },
  {
   "cell_type": "code",
   "execution_count": 2,
   "metadata": {
    "collapsed": true
   },
   "outputs": [],
   "source": [
    "def load_data(data_location):\n",
    "    mnist = fetch_mldata('MNIST original', data_home=data_location)\n",
    "\n",
    "    sampling_vec = np.random.choice(len(mnist.target), len(mnist.target))\n",
    "    X = mnist.data[sampling_vec]\n",
    "    \n",
    "    X = (X / 255.).astype(theano.config.floatX)\n",
    "    y = mnist.target[sampling_vec]\n",
    "\n",
    "    trainX, trainy = X[:50000], y[:50000]\n",
    "    valX, valy = X[50000:60000], y[50000:60000]\n",
    "    testX, testy = X[60000:], y[60000:]\n",
    "    \n",
    "    return trainX, trainy, valX, valy, testX, testy\n",
    "\n",
    "# from: https://gist.github.com/chsasank/4d8f68caf01f041a6453e67fb30f8f5a\n",
    "def elastic_transform(image, alpha, sigma, random_state=None):\n",
    "    \"\"\"Elastic deformation of images as described in [Simard2003]_.\n",
    "    .. [Simard2003] Simard, Steinkraus and Platt, \"Best Practices for\n",
    "       Convolutional Neural Networks applied to Visual Document Analysis\", in\n",
    "       Proc. of the International Conference on Document Analysis and\n",
    "       Recognition, 2003.\n",
    "    \"\"\"\n",
    "    assert len(image.shape) == 2\n",
    "\n",
    "    if random_state is None:\n",
    "        random_state = np.random.RandomState(None)\n",
    "\n",
    "    shape = image.shape\n",
    "\n",
    "    dx = gaussian_filter((random_state.rand(*shape) * 2 - 1), sigma, mode=\"constant\", cval=0) * alpha\n",
    "    dy = gaussian_filter((random_state.rand(*shape) * 2 - 1), sigma, mode=\"constant\", cval=0) * alpha\n",
    "\n",
    "    x, y = np.meshgrid(np.arange(shape[0]), np.arange(shape[1]), indexing='ij')\n",
    "    indices = np.reshape(x+dx, (-1, 1)), np.reshape(y+dy, (-1, 1))\n",
    "    \n",
    "    return map_coordinates(image, indices, order=1).reshape(shape)"
   ]
  },
  {
   "cell_type": "code",
   "execution_count": 3,
   "metadata": {
    "collapsed": false
   },
   "outputs": [
    {
     "name": "stdout",
     "output_type": "stream",
     "text": [
      "/home/c/mnist_data\n",
      "\n",
      "(50000, 784)\n",
      "(50000,)\n",
      "\n",
      "(10000, 784)\n",
      "(10000,)\n",
      "\n",
      "(10000, 784)\n",
      "(10000,)\n"
     ]
    }
   ],
   "source": [
    "data_location = os.path.expanduser('~/mnist_data')\n",
    "print(data_location)\n",
    "print()\n",
    "\n",
    "trainX, trainy, valX, valy, testX, testy = load_data(data_location)\n",
    "\n",
    "print(trainX.shape)\n",
    "print(trainy.shape)\n",
    "print()\n",
    "print(valX.shape)\n",
    "print(valy.shape)\n",
    "print()\n",
    "print(testX.shape)\n",
    "print(testy.shape)"
   ]
  },
  {
   "cell_type": "code",
   "execution_count": 4,
   "metadata": {
    "collapsed": false
   },
   "outputs": [],
   "source": [
    "input_var = T.matrix('input', dtype=theano.config.floatX)\n",
    "embedding_size = 800\n",
    "drop_in_prob = 0.25\n",
    "embedding_drop_prob = 0.5\n",
    "input_size = 784\n",
    "sigma = 0.1\n",
    "l2_reg_coeff = 1e-4\n",
    "l1_reg_coeff = 5e-5\n",
    "\n",
    "net = OrderedDict()\n",
    "net['input'] = InputLayer(\n",
    "    (None, input_size),\n",
    "    input_var=input_var\n",
    ")\n",
    "\n",
    "net['input_dropout'] = DropoutLayer(\n",
    "    net['input'],\n",
    "    p=drop_in_prob\n",
    ")\n",
    "\n",
    "net['noise'] = GaussianNoiseLayer(\n",
    "    net['input_dropout'],\n",
    "    sigma=sigma\n",
    ")\n",
    "\n",
    "net['embedding'] = DenseLayer(\n",
    "    net['noise'],\n",
    "    embedding_size,\n",
    "    nonlinearity=elu\n",
    ")\n",
    "\n",
    "net['embedding_dropout'] = DropoutLayer(\n",
    "    net['embedding'],\n",
    "    p=embedding_drop_prob\n",
    ")\n",
    "\n",
    "net['pred'] = DenseLayer(\n",
    "    net['embedding'],\n",
    "    input_size,\n",
    "    nonlinearity=sigmoid\n",
    ")\n",
    "\n",
    "prediction = get_output(net['pred'])\n",
    "loss = binary_crossentropy(prediction, input_var)\n",
    "\n",
    "l2_reg = l2_reg_coeff * regularize_network_params(net['pred'], l2)\n",
    "l1_reg = l1_reg_coeff * regularize_network_params(net['pred'], l1)\n",
    "loss = loss.mean() + l1_reg + l2_reg\n",
    "\n",
    "params = get_all_params(net['pred'], trainable=True)\n",
    "updates = nesterov_momentum(loss, params, learning_rate=0.01, momentum=0.9)\n",
    "\n",
    "train_function = theano.function(\n",
    "    [input_var],\n",
    "    loss,\n",
    "    updates=updates\n",
    ")"
   ]
  },
  {
   "cell_type": "code",
   "execution_count": 9,
   "metadata": {
    "collapsed": false
   },
   "outputs": [
    {
     "data": {
      "text/plain": [
       "<matplotlib.image.AxesImage at 0x7fcfd472ce48>"
      ]
     },
     "execution_count": 9,
     "metadata": {},
     "output_type": "execute_result"
    },
    {
     "data": {
      "image/png": "[encoded data removed]",
      "text/plain": [
       "<matplotlib.figure.Figure at 0x7fcfe68fce10>"
      ]
     },
     "metadata": {},
     "output_type": "display_data"
    },
    {
     "data": {
      "image/png": "[encoded data removed]",
      "text/plain": [
       "<matplotlib.figure.Figure at 0x7fcfe68fcdd8>"
      ]
     },
     "metadata": {},
     "output_type": "display_data"
    }
   ],
   "source": [
    "from matplotlib import pyplot as plt\n",
    "%matplotlib inline\n",
    "\n",
    "img = trainX[1].reshape((28, 28))\n",
    "img_trans = elastic_transform(img, 8, 1.8)\n",
    "plt.imshow(img, cmap='Greys_r')\n",
    "plt.figure()\n",
    "plt.imshow(img_trans, cmap='Greys_r')"
   ]
  },
  {
   "cell_type": "code",
   "execution_count": 138,
   "metadata": {
    "collapsed": false,
    "scrolled": false
   },
   "outputs": [
    {
     "name": "stdout",
     "output_type": "stream",
     "text": [
      "Loss for last 20 iters, 0.31987\n",
      "Loss for last 20 iters, 0.31910\n",
      "Loss for last 20 iters, 0.31995\n",
      "Loss for last 20 iters, 0.31859\n",
      "Loss for last 20 iters, 0.31813\n",
      "Loss for epoch, 0.31597\n",
      "Loss for last 20 iters, 0.31892\n",
      "Loss for last 20 iters, 0.31832\n",
      "Loss for last 20 iters, 0.31872\n",
      "Loss for last 20 iters, 0.31783\n",
      "Loss for last 20 iters, 0.31775\n",
      "Loss for epoch, 0.31516\n",
      "Loss for last 20 iters, 0.31789\n",
      "Loss for last 20 iters, 0.31742\n",
      "Loss for last 20 iters, 0.31809\n",
      "Loss for last 20 iters, 0.31734\n",
      "Loss for last 20 iters, 0.31638\n",
      "Loss for epoch, 0.31428\n",
      "Loss for last 20 iters, 0.31729\n",
      "Loss for last 20 iters, 0.31732\n",
      "Loss for last 20 iters, 0.31752\n",
      "Loss for last 20 iters, 0.31685\n",
      "Loss for last 20 iters, 0.31629\n",
      "Loss for epoch, 0.31392\n",
      "Loss for last 20 iters, 0.31683\n",
      "Loss for last 20 iters, 0.31603\n",
      "Loss for last 20 iters, 0.31676\n",
      "Loss for last 20 iters, 0.31603\n",
      "Loss for last 20 iters, 0.31535\n",
      "Loss for epoch, 0.31307\n",
      "Loss for last 20 iters, 0.31600\n",
      "Loss for last 20 iters, 0.31583\n",
      "Loss for last 20 iters, 0.31659\n",
      "Loss for last 20 iters, 0.31523\n",
      "Loss for last 20 iters, 0.31470\n",
      "Loss for epoch, 0.31255\n",
      "Loss for last 20 iters, 0.31524\n",
      "Loss for last 20 iters, 0.31555\n",
      "Loss for last 20 iters, 0.31542\n",
      "Loss for last 20 iters, 0.31518\n",
      "Loss for last 20 iters, 0.31385\n",
      "Loss for epoch, 0.31193\n",
      "Loss for last 20 iters, 0.31448\n",
      "Loss for last 20 iters, 0.31445\n",
      "Loss for last 20 iters, 0.31501\n",
      "Loss for last 20 iters, 0.31463\n",
      "Loss for last 20 iters, 0.31379\n",
      "Loss for epoch, 0.31136\n",
      "Loss for last 20 iters, 0.31407\n",
      "Loss for last 20 iters, 0.31404\n",
      "Loss for last 20 iters, 0.31463\n",
      "Loss for last 20 iters, 0.31380\n",
      "Loss for last 20 iters, 0.31288\n",
      "Loss for epoch, 0.31078\n",
      "Loss for last 20 iters, 0.31382\n",
      "Loss for last 20 iters, 0.31347\n",
      "Loss for last 20 iters, 0.31354\n",
      "Loss for last 20 iters, 0.31286\n",
      "Loss for last 20 iters, 0.31234\n",
      "Loss for epoch, 0.31011\n"
     ]
    }
   ],
   "source": [
    "def batch_process(input_batch):\n",
    "    def process_slice(data_slice):\n",
    "        img = data_slice.reshape(28, 28)\n",
    "        distorted = elastic_transform(img, 8, 1.8)\n",
    "        return distorted.flatten()\n",
    "    \n",
    "    return np.apply_along_axis(process_slice, 1, input_batch)\n",
    "\n",
    "def data_generator(input_data, n_chunks=100):\n",
    "    chunks = np.array_split(input_data, n_chunks)\n",
    "    while True:\n",
    "        for chunk in chunks:\n",
    "            yield(batch_process(chunk))\n",
    "            \n",
    "        yield None\n",
    "\n",
    "data_gen = data_generator(trainX)\n",
    "n_epochs = 10\n",
    "report_n_iter = 20\n",
    "\n",
    "for epoch in range(1, n_epochs + 1):\n",
    "    epoch_loss = 0.\n",
    "    report_loss = 0.\n",
    "    \n",
    "    for idx, chunk in enumerate(data_gen, 1):\n",
    "        if chunk is None:\n",
    "            iters_for_epoch = idx\n",
    "            break\n",
    "        \n",
    "        loss_val = train_function(chunk)\n",
    "        report_loss += loss_val\n",
    "        epoch_loss += loss_val\n",
    "        \n",
    "        if idx % report_n_iter == 0:\n",
    "            print(\n",
    "                'Loss for last {} iters, {:.5f}'.format(\n",
    "                    report_n_iter, report_loss / report_n_iter\n",
    "                )\n",
    "            )\n",
    "            report_loss = 0.\n",
    "            \n",
    "    print(\n",
    "        'Loss for epoch, {:.5f}'.format(\n",
    "            epoch_loss / iters_for_epoch\n",
    "        )\n",
    "    )\n",
    "\n",
    "    "
   ]
  },
  {
   "cell_type": "code",
   "execution_count": null,
   "metadata": {
    "collapsed": true
   },
   "outputs": [],
   "source": [
    "np.savez('model.npz', *get_all_param_values(net['pred']))"
   ]
  },
  {
   "cell_type": "code",
   "execution_count": 5,
   "metadata": {
    "collapsed": false
   },
   "outputs": [],
   "source": [
    "with np.load('train_model.npz') as f:\n",
    "    param_values = [f['arr_{}'.format(i)] for i in range(len(f.files))]"
   ]
  },
  {
   "cell_type": "code",
   "execution_count": 6,
   "metadata": {
    "collapsed": true
   },
   "outputs": [],
   "source": [
    "encoding = get_output(net['embedding'], deterministic=True)\n",
    "\n",
    "encoding_function = theano.function(\n",
    "    [input_var],\n",
    "    encoding\n",
    ")"
   ]
  },
  {
   "cell_type": "code",
   "execution_count": 7,
   "metadata": {
    "collapsed": true
   },
   "outputs": [],
   "source": [
    "from sklearn.preprocessing import normalize\n",
    "\n",
    "encoded = encoding_function(valX)\n",
    "# encoded = normalize(encoded)\n",
    "encoded_test = encoding_function(testX)"
   ]
  },
  {
   "cell_type": "code",
   "execution_count": null,
   "metadata": {
    "collapsed": false
   },
   "outputs": [],
   "source": [
    "max_k = 20\n",
    "\n",
    "inertias = np.zeros(max_k)\n",
    "for k_val in range(1, max_k + 1):\n",
    "    kmeans = MiniBatchKMeans(n_clusters=k_val).fit(encoded)\n",
    "    inertias[k_val - 1] = kmeans.inertia_\n",
    "\n",
    "plt.plot(list(range(1, max_k + 1)), inertias)"
   ]
  },
  {
   "cell_type": "code",
   "execution_count": null,
   "metadata": {
    "collapsed": false
   },
   "outputs": [
    {
     "name": "stdout",
     "output_type": "stream",
     "text": [
      "Test set accuracy quantised to 10.0, 85.93%\n",
      "Test set accuracy quantised to 20.0, 90.58%\n",
      "Test set accuracy quantised to 30.0, 92.09%\n"
     ]
    }
   ],
   "source": [
    "for quant_val in np.linspace(10, 200, 20):\n",
    "    kmeans = MiniBatchKMeans(n_clusters=int(quant_val)).fit(encoded)\n",
    "    centers = kmeans.cluster_centers_\n",
    "\n",
    "    distance_space = kmeans.transform(encoded)\n",
    "\n",
    "    from sklearn.svm import SVC\n",
    "    clf = SVC()\n",
    "    clf.fit(distance_space, valy)\n",
    "\n",
    "    # encoded_test = normalize(encoded_test)\n",
    "    distance_test = kmeans.transform(encoded_test)\n",
    "    test_pred = clf.predict(distance_test)\n",
    "\n",
    "    acc = (np.sum((test_pred == testy)) * 100) / len(testy)\n",
    "    print('Test set accuracy quantised to {}, {:.2f}%'.format(quant_val, acc))"
   ]
  },
  {
   "cell_type": "code",
   "execution_count": 26,
   "metadata": {
    "collapsed": false
   },
   "outputs": [
    {
     "data": {
      "text/plain": [
       "array([  10.,   20.,   30.,   40.,   50.,   60.,   70.,   80.,   90.,\n",
       "        100.,  110.,  120.,  130.,  140.,  150.,  160.,  170.,  180.,\n",
       "        190.,  200.])"
      ]
     },
     "execution_count": 26,
     "metadata": {},
     "output_type": "execute_result"
    }
   ],
   "source": [
    "np.linspace(10, 200, 20)"
   ]
  },
  {
   "cell_type": "code",
   "execution_count": 24,
   "metadata": {
    "collapsed": false
   },
   "outputs": [
    {
     "data": {
      "text/plain": [
       "40.0"
      ]
     },
     "execution_count": 24,
     "metadata": {},
     "output_type": "execute_result"
    }
   ],
   "source": [
    "800/20"
   ]
  },
  {
   "cell_type": "code",
   "execution_count": null,
   "metadata": {
    "collapsed": true
   },
   "outputs": [],
   "source": []
  }
 ],
 "metadata": {
  "kernelspec": {
   "display_name": "Python 3",
   "language": "python",
   "name": "python3"
  },
  "language_info": {
   "codemirror_mode": {
    "name": "ipython",
    "version": 3
   },
   "file_extension": ".py",
   "mimetype": "text/x-python",
   "name": "python",
   "nbconvert_exporter": "python",
   "pygments_lexer": "ipython3",
   "version": "3.4.3"
  }
 },
 "nbformat": 4,
 "nbformat_minor": 0
}
